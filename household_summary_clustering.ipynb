{
 "cells": [
  {
   "cell_type": "markdown",
   "id": "93c344e0-2afb-4ec6-a728-359eb2c76aa7",
   "metadata": {},
   "source": [
    "K-means clustering"
   ]
  },
  {
   "cell_type": "code",
   "execution_count": 1,
   "id": "1a79d0dc-9015-4bb5-9f84-12dbdbb0e1fa",
   "metadata": {},
   "outputs": [
    {
     "name": "stdout",
     "output_type": "stream",
     "text": [
      "(509935, 6)\n",
      "   household  total_spend  total_transactions  total_units  \\\n",
      "0          1       253.00                  11          187   \n",
      "1          2     29217.90                  88        13175   \n",
      "2          3         5.28                   1            2   \n",
      "3          4         5.70                   2            6   \n",
      "4          5        29.49                   3           18   \n",
      "5          6         0.79                   1            1   \n",
      "\n",
      "   avg_days_between_purchases  couponed_usage_rate  \n",
      "0                       69.30                 0.00  \n",
      "1                        8.36                 2.27  \n",
      "2                         NaN                 0.00  \n",
      "3                      164.00                 0.00  \n",
      "4                       97.00                 0.00  \n",
      "5                         NaN                 0.00  \n"
     ]
    }
   ],
   "source": [
    "import pandas as pd\n",
    "\n",
    "df = pd.read_csv(\"data/household_summary.csv\")\n",
    "\n",
    "print(df.shape)\n",
    "print(df.head(6))"
   ]
  },
  {
   "cell_type": "code",
   "execution_count": null,
   "id": "24bb6bf6-e465-4da3-802c-4f55202ba90c",
   "metadata": {},
   "outputs": [],
   "source": [
    "df['avg_days_between_purchases'].fillna(728, inplace=True)"
   ]
  },
  {
   "cell_type": "code",
   "execution_count": 8,
   "id": "ee2bf66b-8d11-4984-8a15-0c5ce72d1d1c",
   "metadata": {},
   "outputs": [
    {
     "name": "stdout",
     "output_type": "stream",
     "text": [
      "   household  total_spend  total_transactions  total_units  \\\n",
      "0          1       253.00                  11          187   \n",
      "1          2     29217.90                  88        13175   \n",
      "2          3         5.28                   1            2   \n",
      "3          4         5.70                   2            6   \n",
      "4          5        29.49                   3           18   \n",
      "5          6         0.79                   1            1   \n",
      "\n",
      "   avg_days_between_purchases  couponed_usage_rate  \n",
      "0                       69.30                 0.00  \n",
      "1                        8.36                 2.27  \n",
      "2                      728.00                 0.00  \n",
      "3                      164.00                 0.00  \n",
      "4                       97.00                 0.00  \n",
      "5                      728.00                 0.00  \n"
     ]
    }
   ],
   "source": [
    "print(df.head(6))"
   ]
  },
  {
   "cell_type": "code",
   "execution_count": 9,
   "id": "952223c6-7325-46e0-b258-07cd525470da",
   "metadata": {},
   "outputs": [],
   "source": [
    "from sklearn.preprocessing import StandardScaler\n",
    "\n",
    "features = df[[\"total_spend\",\"total_transactions\",\"total_units\",\"avg_days_between_purchases\",\"couponed_usage_rate\"]]\n",
    "scaler = StandardScaler()\n",
    "scaled_features = scaler.fit_transform(features)"
   ]
  },
  {
   "cell_type": "code",
   "execution_count": 11,
   "id": "a47a8128-5d21-476d-aced-ffc37da42357",
   "metadata": {},
   "outputs": [],
   "source": [
    "from sklearn.cluster import KMeans\n",
    "\n",
    "kmeans = KMeans(n_clusters  = 4, random_state = 42)\n",
    "df['cluster'] = kmeans.fit_predict(scaled_features)"
   ]
  },
  {
   "cell_type": "code",
   "execution_count": 12,
   "id": "1ba7327a-2e18-4641-b8ae-b7411643d7a6",
   "metadata": {},
   "outputs": [
    {
     "name": "stdout",
     "output_type": "stream",
     "text": [
      "         household  total_spend  total_transactions  total_units  \\\n",
      "cluster                                                            \n",
      "0        243290.51       165.45                6.44       113.34   \n",
      "1        192656.49     14318.17               64.87      9441.95   \n",
      "2        289825.97         3.16                1.06         2.14   \n",
      "3        197456.20      2639.63               29.82      1793.61   \n",
      "\n",
      "         avg_days_between_purchases  couponed_usage_rate  \n",
      "cluster                                                   \n",
      "0                             91.53                 1.80  \n",
      "1                             11.63                 2.87  \n",
      "2                            715.67                 1.15  \n",
      "3                             24.30                 2.94  \n"
     ]
    }
   ],
   "source": [
    "cluster_summary = df.groupby('cluster').mean().round(2)\n",
    "print(cluster_summary)"
   ]
  },
  {
   "cell_type": "code",
   "execution_count": null,
   "id": "fac3990f-2242-4745-908a-aa9aec2c0d32",
   "metadata": {},
   "outputs": [],
   "source": [
    "df.groupby('cluster').mean().round(2)"
   ]
  },
  {
   "cell_type": "markdown",
   "id": "02d28fd7-4301-475f-9de1-7dea01462db9",
   "metadata": {},
   "source": [
    "Cluster | Label                 | Description                 \n",
    "==============================================================\n",
    "0       | Occasional Customers  | Infrequent, low spend       \n",
    "1       | Power Users           | High spenders, high loyalty \n",
    "2       | One-Time Customers    | Tried once, disappeared     \n",
    "3       | Coupon-Regulars       | Frequent, value-sensitive   \n"
   ]
  },
  {
   "cell_type": "code",
   "execution_count": 16,
   "id": "53ad3877-f71f-4755-a4a8-8b6f5d4ede14",
   "metadata": {},
   "outputs": [],
   "source": [
    "label_map = {\n",
    "    0: 'Occasional Customers',\n",
    "    1: 'Power Users',\n",
    "    2: 'One-Time Customers',\n",
    "    3: 'Coupon-Regulars'\n",
    "}\n",
    "df['segment'] = df['cluster'].map(label_map)"
   ]
  },
  {
   "cell_type": "code",
   "execution_count": 18,
   "id": "80cb197c-e35a-452b-a577-2aecc843828d",
   "metadata": {},
   "outputs": [],
   "source": [
    "df.to_csv(\"data/household_clusters.csv\", index=False)"
   ]
  }
 ],
 "metadata": {
  "kernelspec": {
   "display_name": "Python [conda env:base] *",
   "language": "python",
   "name": "conda-base-py"
  },
  "language_info": {
   "codemirror_mode": {
    "name": "ipython",
    "version": 3
   },
   "file_extension": ".py",
   "mimetype": "text/x-python",
   "name": "python",
   "nbconvert_exporter": "python",
   "pygments_lexer": "ipython3",
   "version": "3.12.7"
  }
 },
 "nbformat": 4,
 "nbformat_minor": 5
}
